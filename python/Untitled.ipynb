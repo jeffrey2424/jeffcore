{
 "cells": [
  {
   "cell_type": "code",
   "execution_count": 15,
   "id": "b31310ea",
   "metadata": {},
   "outputs": [],
   "source": [
    "from typing import List\n"
   ]
  },
  {
   "cell_type": "code",
   "execution_count": 58,
   "id": "fe01f0c5",
   "metadata": {},
   "outputs": [],
   "source": [
    "\n",
    "def read_file(file_path: str) -> str:\n",
    "    \"\"\"Read a file, and return the text content\n",
    "    \"\"\"\n",
    "    with open(file_path, \"r\") as f:\n",
    "        contents = f.read()\n",
    "    return contents\n",
    "\n",
    "def split_contents_to_individual_commands(file_contents: str) -> List[str]:\n",
    "    \"\"\"\n",
    "    \"\"\"\n",
    "    unclean_commands = file_contents.split(\";\")\n",
    "    return [command.strip().lower() for command in unclean_commands if command]\n",
    "    \n",
    "def process_command(command, previous_val=None):\n",
    "    print(previous_val)\n",
    "    command_split = command.split(' ')\n",
    "    command_kw = command_split[0]\n",
    "    try:\n",
    "        command_val = command_split[1]\n",
    "    except IndexError:\n",
    "        pass\n",
    "    \n",
    "    if command_kw == \"start\":\n",
    "        return command_val\n",
    "    if command_kw == \"add\":\n",
    "        return previous_val + command_val\n",
    "    if command_kw == \"sub\":\n",
    "        return previous_val - command_val\n",
    "    if command_kw == \"mul\":\n",
    "        return previous_val * command_val\n",
    "    if command_kw == \"div\":\n",
    "        return int(previous_val / command_val)\n",
    "    if command_kw == \"end\":\n",
    "        return previous_val\n",
    "\n",
    "def process_command_list(command_list):\n",
    "    out_value = 0\n",
    "    for command in command_list:\n",
    "        out_value = process_command(command, out_value)\n",
    "    return out_value\n",
    "    \n",
    "\n"
   ]
  },
  {
   "cell_type": "code",
   "execution_count": 43,
   "id": "56ac2160",
   "metadata": {},
   "outputs": [],
   "source": [
    "contents = read_file(\"bad_code.jeff\")"
   ]
  },
  {
   "cell_type": "code",
   "execution_count": null,
   "id": "6b64a6c7",
   "metadata": {},
   "outputs": [],
   "source": []
  },
  {
   "cell_type": "code",
   "execution_count": 34,
   "id": "f8206508",
   "metadata": {},
   "outputs": [
    {
     "data": {
      "text/plain": [
       "['start 3', '\\nadd 2', '\\nminus 5', '\\nend', '']"
      ]
     },
     "execution_count": 34,
     "metadata": {},
     "output_type": "execute_result"
    }
   ],
   "source": [
    "a = split_contents_to_individual_commands(contents)\n",
    "a"
   ]
  },
  {
   "cell_type": "code",
   "execution_count": 37,
   "id": "40b3f9a1",
   "metadata": {},
   "outputs": [
    {
     "data": {
      "text/plain": [
       "['start 3', 'add 2', 'minus 5', 'end']"
      ]
     },
     "execution_count": 37,
     "metadata": {},
     "output_type": "execute_result"
    }
   ],
   "source": [
    "[ele.strip() for ele in a if ele]"
   ]
  },
  {
   "cell_type": "code",
   "execution_count": null,
   "id": "447297eb",
   "metadata": {},
   "outputs": [],
   "source": []
  },
  {
   "cell_type": "code",
   "execution_count": 59,
   "id": "e7c0f737",
   "metadata": {},
   "outputs": [
    {
     "name": "stdout",
     "output_type": "stream",
     "text": [
      "0\n",
      "3\n",
      "32\n",
      "None\n",
      "None\n"
     ]
    }
   ],
   "source": [
    "contents = read_file(\"bad_code.jeff\")\n",
    "command_list = split_contents_to_individual_commands(contents)\n",
    "out = process_command_list(command_list)\n",
    "print(out)"
   ]
  },
  {
   "cell_type": "code",
   "execution_count": null,
   "id": "4f5b9be6",
   "metadata": {},
   "outputs": [],
   "source": []
  }
 ],
 "metadata": {
  "kernelspec": {
   "display_name": "Python 3 (ipykernel)",
   "language": "python",
   "name": "python3"
  },
  "language_info": {
   "codemirror_mode": {
    "name": "ipython",
    "version": 3
   },
   "file_extension": ".py",
   "mimetype": "text/x-python",
   "name": "python",
   "nbconvert_exporter": "python",
   "pygments_lexer": "ipython3",
   "version": "3.9.12"
  }
 },
 "nbformat": 4,
 "nbformat_minor": 5
}
